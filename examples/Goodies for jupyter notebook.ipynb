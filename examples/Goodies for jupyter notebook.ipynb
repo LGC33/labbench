{
 "cells": [
  {
   "cell_type": "markdown",
   "metadata": {},
   "source": [
    "### Test status indication in jupyter notebook\n",
    "This will be a brief demonstration of the indicator tools for jupyter notebook. The indicators in `labbench` include\n",
    "* `panel`, which autogenerates a table of state values, and\n",
    "* `log_progress`, which shows through the test mainloop.\n",
    "* `linspace(...)` is a shortcut for `log_progress(np.linspace(...))`\n",
    "* `range(...)` is a shortcut for `log_progress(range(...))`\n",
    "\n",
    "`panel` is called automatically from within a notebook on calls to `log_progress`, `linspace`, or `range`.\n",
    "\n",
    "To get started here is the emulated instrument setup."
   ]
  },
  {
   "cell_type": "code",
   "execution_count": 1,
   "metadata": {},
   "outputs": [],
   "source": [
    "from __future__ import print_function\n",
    "\n",
    "import sys,os,time\n",
    "if '..' not in sys.path:\n",
    "    sys.path.insert(0,'..')\n",
    "import labbench as lb\n",
    "import numpy as np\n",
    "import pandas as pd\n",
    "\n",
    "class EmulatedInstrument(lb.emulated.EmulatedVISADevice):\n",
    "    ''' This \"instrument\" makes mock data and instrument states to\n",
    "        demonstrate we can show the process of setting\n",
    "        up a measurement.\n",
    "    '''\n",
    "    class state (lb.Device.state):\n",
    "        initiate_continuous = lb.Bool(command='INIT:CONT')\n",
    "        output_trigger      = lb.Bool(command='OUTP:TRIG')\n",
    "        sweep_aperture      = lb.Float(command='SWE:APER', min=20e-6,\n",
    "                                       max=200e-3, help='time (in s)')\n",
    "        frequency           = lb.Float(command='SENS:FREQ', min=10e6,\n",
    "                                       max=18e9, step=1e-3, help='center frequency (in Hz)')\n",
    "\n",
    "    def trigger(self):\n",
    "        ''' This would tell the instrument to start a measurement\n",
    "        '''\n",
    "        time.sleep(.1)\n",
    "\n",
    "    def fetch_trace(self, N=1001):\n",
    "        ''' Generate N points of junk data as a pandas series.\n",
    "        '''\n",
    "        values = np.random.uniform(-1, 1, N)\n",
    "        index = np.linspace(0, self.state.sweep_aperture, N)\n",
    "        series = pd.Series(values, index=index, name='Voltage (V)')\n",
    "        series.index.name = 'Time (s)'\n",
    "        return series"
   ]
  },
  {
   "cell_type": "markdown",
   "metadata": {},
   "source": [
    "Here is the example use of the indicators. They are all triggered automatically by the use of `lb.linspace`. The explicit call to `panel()` is also included.\n",
    "\n",
    "`panel` does introspection on the code where it is called to identify `lb.Device` instances. It observes changes to the states of these devices and shows a continuously updating table as the test progresses.\n",
    "\n",
    "`log_progress` shows a bar indicating the progress through a test loop."
   ]
  },
  {
   "cell_type": "code",
   "execution_count": 2,
   "metadata": {
    "scrolled": false
   },
   "outputs": [
    {
     "data": {
      "application/vnd.jupyter.widget-view+json": {
       "model_id": "18affa50e2d549afb3f73995fbae94e0",
       "version_major": 2,
       "version_minor": 0
      },
      "text/plain": [
       "A Jupyter Widget"
      ]
     },
     "metadata": {},
     "output_type": "display_data"
    },
    {
     "data": {
      "application/vnd.jupyter.widget-view+json": {
       "model_id": "65ceb54ad0e64d8ba71238ff9b354271",
       "version_major": 2,
       "version_minor": 0
      },
      "text/plain": [
       "A Jupyter Widget"
      ]
     },
     "metadata": {},
     "output_type": "display_data"
    }
   ],
   "source": [
    "with EmulatedInstrument() as inst,\\\n",
    "        EmulatedInstrument() as inst2,\\\n",
    "        EmulatedInstrument() as inst3,\\\n",
    "        lb.StatesToSQLite('test.db', overwrite=False) as db:\n",
    "            \n",
    "    # panel()\n",
    "\n",
    "    db.observe([inst,inst2,inst3], changes=True, always='sweep_aperture')\n",
    "\n",
    "    for inst.state.frequency in lb.linspace(10e6,100e6,31):\n",
    "        inst2.state.frequency = inst.state.frequency\n",
    "        inst3.state.frequency = inst.state.frequency\n",
    "        \n",
    "        inst.trigger()\n",
    "        trace = inst.fetch_trace()\n",
    "        db.append(power_GW='1.21', trace=trace)"
   ]
  }
 ],
 "metadata": {
  "kernelspec": {
   "display_name": "Python 3",
   "language": "python",
   "name": "python3"
  },
  "language_info": {
   "codemirror_mode": {
    "name": "ipython",
    "version": 3
   },
   "file_extension": ".py",
   "mimetype": "text/x-python",
   "name": "python",
   "nbconvert_exporter": "python",
   "pygments_lexer": "ipython3",
   "version": "3.6.2"
  }
 },
 "nbformat": 4,
 "nbformat_minor": 2
}
