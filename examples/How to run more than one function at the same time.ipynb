{
 "cells": [
  {
   "cell_type": "markdown",
   "metadata": {
    "deletable": true,
    "editable": true
   },
   "source": [
    "## How to run more than one function at the same time\n",
    "Long operations on multiple instruments at the same time are sometimes unavoidable. Often these involve the local CPU idling, waiting for I/O operations to complete on the remote instrument. In these cases, it is convenient to be able to use threading to execute more than one of these operations at the same time. This is one type of concurrency. \n",
    "\n",
    "`labbench` includes simple concurrency support for this kind of I/O-constrained operation. It is not suitable for parallelizing CPU-intensive tasks because it relies on threading (which shares a single process on one CPU core) instead of multiprocessing (which may be able to spread operations across multiple CPU cores)."
   ]
  },
  {
   "cell_type": "markdown",
   "metadata": {
    "deletable": true,
    "editable": true
   },
   "source": [
    "### Example\n",
    "Here are very fake functions that just use `time.sleep` to block. They simulate longer instrument calls (such as triggering or acquisition) that take some time to complete.\n",
    "\n",
    "Notice that `do_something_3` takes 3 arguments (and returns them), and that `do_something_4` raises an exception."
   ]
  },
  {
   "cell_type": "code",
   "execution_count": 1,
   "metadata": {
    "collapsed": false,
    "deletable": true,
    "editable": true
   },
   "outputs": [],
   "source": [
    "import time\n",
    "\n",
    "def do_something_1 ():\n",
    "    print 'start 1'\n",
    "    time.sleep(1)\n",
    "    print 'end 1'\n",
    "    return 1\n",
    "\n",
    "def do_something_2 ():\n",
    "    print 'start 2'\n",
    "    time.sleep(2)\n",
    "    print 'end 2'\n",
    "    return 2\n",
    "\n",
    "def do_something_3 (a,b,c):\n",
    "    print 'start 3'\n",
    "    time.sleep(2.5)\n",
    "    print 'end 3'\n",
    "    return a,b,c \n",
    "\n",
    "def do_something_4 ():\n",
    "    print 'start 4'\n",
    "    time.sleep(3)\n",
    "    raise ValueError('I had an error')\n",
    "    print 'end 4'\n",
    "    return 4\n",
    "\n",
    "def do_something_5 ():\n",
    "    print 'start 5'\n",
    "    time.sleep(4)\n",
    "    raise IndexError('I had a different error')\n",
    "    print 'end 5'\n",
    "    return 4"
   ]
  },
  {
   "cell_type": "markdown",
   "metadata": {
    "deletable": true,
    "editable": true
   },
   "source": [
    "Here is the simplest example, where we call functions `do_something_1` and `do_something_2` that take no arguments and raise no exceptions:"
   ]
  },
  {
   "cell_type": "code",
   "execution_count": 2,
   "metadata": {
    "collapsed": false,
    "deletable": true,
    "editable": true
   },
   "outputs": [
    {
     "name": "stdout",
     "output_type": "stream",
     "text": [
      "start 1\n",
      "start 2\n",
      "end 1\n",
      "end 2\n",
      "results:  1 2\n"
     ]
    }
   ],
   "source": [
    "from labbench import concurrently\n",
    "\n",
    "results = concurrently(do_something_1, do_something_2)\n",
    "\n",
    "print 'results: ', results[do_something_1], results[do_something_2]"
   ]
  },
  {
   "cell_type": "code",
   "execution_count": 3,
   "metadata": {
    "collapsed": false
   },
   "outputs": [
    {
     "data": {
      "text/plain": [
       "'do_something_1'"
      ]
     },
     "execution_count": 3,
     "metadata": {},
     "output_type": "execute_result"
    }
   ],
   "source": [
    "do_something_1.__name__"
   ]
  },
  {
   "cell_type": "markdown",
   "metadata": {},
   "source": [
    "We can also pass functions by wrapping the functions in `Call()`, which is a class designed for this purpose:"
   ]
  },
  {
   "cell_type": "code",
   "execution_count": 3,
   "metadata": {
    "collapsed": false,
    "deletable": true,
    "editable": true
   },
   "outputs": [
    {
     "name": "stdout",
     "output_type": "stream",
     "text": [
      "start 1start 3\n",
      "\n",
      "end 1\n",
      "end 3results: \n",
      " 1 (1, 2, 3)\n"
     ]
    }
   ],
   "source": [
    "from labbench import concurrently, Call\n",
    "\n",
    "results = concurrently(do_something_1, Call(do_something_3, 1,2,c=3))\n",
    "\n",
    "print 'results: ', results[do_something_1], results[do_something_3]"
   ]
  },
  {
   "cell_type": "markdown",
   "metadata": {
    "deletable": true,
    "editable": true
   },
   "source": [
    "More than one of the functions running concurrently may raise exceptions. Tracebacks print to the screen, and by default `ConcurrentException` is also raised:"
   ]
  },
  {
   "cell_type": "code",
   "execution_count": 4,
   "metadata": {
    "collapsed": false,
    "deletable": true,
    "editable": true
   },
   "outputs": [
    {
     "name": "stdout",
     "output_type": "stream",
     "text": [
      "start 4\n",
      "start 5\n"
     ]
    },
    {
     "name": "stderr",
     "output_type": "stream",
     "text": [
      "\n",
      "Traceback (most recent call last):\n",
      "  File \"build\\bdist.win-amd64\\egg\\labbench\\concurrency.py\", line 40, in __call__\n",
      "    self.result = self.func(*self.args, **self.kws)\n",
      "  File \"<ipython-input-1-d8f843dd1423>\", line 24, in do_something_4\n",
      "    raise ValueError('I had an error')\n",
      "ValueError: I had an error\n",
      "\n",
      "\n",
      "Traceback (most recent call last):\n",
      "  File \"build\\bdist.win-amd64\\egg\\labbench\\concurrency.py\", line 40, in __call__\n",
      "    self.result = self.func(*self.args, **self.kws)\n",
      "  File \"<ipython-input-1-d8f843dd1423>\", line 31, in do_something_5\n",
      "    raise IndexError('I had a different error')\n",
      "IndexError: I had a different error\n",
      "\n"
     ]
    },
    {
     "ename": "ConcurrentException",
     "evalue": "2 call raised exceptions",
     "output_type": "error",
     "traceback": [
      "\u001b[0;31m---------------------------------------------------------------------------\u001b[0m",
      "\u001b[0;31mConcurrentException\u001b[0m                       Traceback (most recent call last)",
      "\u001b[0;32m<ipython-input-4-80856dc5a5f9>\u001b[0m in \u001b[0;36m<module>\u001b[0;34m()\u001b[0m\n\u001b[1;32m      1\u001b[0m \u001b[1;32mfrom\u001b[0m \u001b[0mlabbench\u001b[0m \u001b[1;32mimport\u001b[0m \u001b[0mconcurrently\u001b[0m\u001b[1;33m,\u001b[0m \u001b[0mCall\u001b[0m\u001b[1;33m\u001b[0m\u001b[0m\n\u001b[1;32m      2\u001b[0m \u001b[1;33m\u001b[0m\u001b[0m\n\u001b[0;32m----> 3\u001b[0;31m \u001b[0mresults\u001b[0m \u001b[1;33m=\u001b[0m \u001b[0mconcurrently\u001b[0m\u001b[1;33m(\u001b[0m\u001b[0mdo_something_4\u001b[0m\u001b[1;33m,\u001b[0m \u001b[0mdo_something_5\u001b[0m\u001b[1;33m)\u001b[0m\u001b[1;33m\u001b[0m\u001b[0m\n\u001b[0m\u001b[1;32m      4\u001b[0m \u001b[1;33m\u001b[0m\u001b[0m\n\u001b[1;32m      5\u001b[0m \u001b[1;32mprint\u001b[0m \u001b[1;34m'results: '\u001b[0m\u001b[1;33m,\u001b[0m \u001b[0mresults\u001b[0m\u001b[1;33m[\u001b[0m\u001b[0mdo_something_1\u001b[0m\u001b[1;33m]\u001b[0m\u001b[1;33m,\u001b[0m \u001b[0mresults\u001b[0m\u001b[1;33m[\u001b[0m\u001b[0mdo_something_3\u001b[0m\u001b[1;33m]\u001b[0m\u001b[1;33m\u001b[0m\u001b[0m\n",
      "\u001b[0;32mC:\\Program Files\\Anaconda2\\lib\\site-packages\\labbench-0.0.1-py2.7.egg\\labbench\\concurrency.pyc\u001b[0m in \u001b[0;36mconcurrently\u001b[0;34m(*funcs, **kws)\u001b[0m\n\u001b[1;32m    117\u001b[0m     \u001b[1;31m# Raise exceptions as necessary\u001b[0m\u001b[1;33m\u001b[0m\u001b[1;33m\u001b[0m\u001b[0m\n\u001b[1;32m    118\u001b[0m     \u001b[1;32mif\u001b[0m \u001b[0mexception_count\u001b[0m\u001b[1;33m>\u001b[0m\u001b[1;36m0\u001b[0m \u001b[1;32mand\u001b[0m \u001b[1;32mnot\u001b[0m \u001b[0mcatch\u001b[0m\u001b[1;33m:\u001b[0m\u001b[1;33m\u001b[0m\u001b[0m\n\u001b[0;32m--> 119\u001b[0;31m         \u001b[1;32mraise\u001b[0m \u001b[0mConcurrentException\u001b[0m\u001b[1;33m(\u001b[0m\u001b[1;34m'{} call raised exceptions'\u001b[0m\u001b[1;33m.\u001b[0m\u001b[0mformat\u001b[0m\u001b[1;33m(\u001b[0m\u001b[0mexception_count\u001b[0m\u001b[1;33m)\u001b[0m\u001b[1;33m)\u001b[0m\u001b[1;33m\u001b[0m\u001b[0m\n\u001b[0m\u001b[1;32m    120\u001b[0m \u001b[1;33m\u001b[0m\u001b[0m\n\u001b[1;32m    121\u001b[0m     \u001b[1;32mreturn\u001b[0m \u001b[0mresults\u001b[0m\u001b[1;33m\u001b[0m\u001b[0m\n",
      "\u001b[0;31mConcurrentException\u001b[0m: 2 call raised exceptions"
     ]
    }
   ],
   "source": [
    "from labbench import concurrently, Call\n",
    "\n",
    "results = concurrently(do_something_4, do_something_5)\n",
    "\n",
    "print 'results: ', results[do_something_1], results[do_something_3]"
   ]
  },
  {
   "cell_type": "markdown",
   "metadata": {
    "deletable": true,
    "editable": true
   },
   "source": [
    "the `catch` flag changes concurrent exception handling behavior to return values of functions that did not raise exceptions (instead of raising `ConcurrentException`). The return dictionary only includes keys for functions that did not raise exceptions."
   ]
  },
  {
   "cell_type": "code",
   "execution_count": 5,
   "metadata": {
    "collapsed": false,
    "deletable": true,
    "editable": true
   },
   "outputs": [
    {
     "name": "stdout",
     "output_type": "stream",
     "text": [
      "start 4\n",
      "start 1\n",
      "end 1\n",
      "results:  {<function do_something_1 at 0x00000000046B4048>: 1}\n"
     ]
    },
    {
     "name": "stderr",
     "output_type": "stream",
     "text": [
      "\n",
      "Traceback (most recent call last):\n",
      "  File \"build\\bdist.win-amd64\\egg\\labbench\\concurrency.py\", line 40, in __call__\n",
      "    self.result = self.func(*self.args, **self.kws)\n",
      "  File \"<ipython-input-1-d8f843dd1423>\", line 24, in do_something_4\n",
      "    raise ValueError('I had an error')\n",
      "ValueError: I had an error\n",
      "\n"
     ]
    }
   ],
   "source": [
    "from labbench import concurrently, Call\n",
    "\n",
    "results = concurrently(do_something_4, do_something_1, catch=True)\n",
    "\n",
    "print 'results: ', results"
   ]
  }
 ],
 "metadata": {
  "kernelspec": {
   "display_name": "Python [default]",
   "language": "python",
   "name": "python2"
  },
  "language_info": {
   "codemirror_mode": {
    "name": "ipython",
    "version": 2
   },
   "file_extension": ".py",
   "mimetype": "text/x-python",
   "name": "python",
   "nbconvert_exporter": "python",
   "pygments_lexer": "ipython2",
   "version": "2.7.13"
  }
 },
 "nbformat": 4,
 "nbformat_minor": 2
}
