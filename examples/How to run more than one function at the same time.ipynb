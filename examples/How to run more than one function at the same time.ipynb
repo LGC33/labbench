{
 "cells": [
  {
   "cell_type": "markdown",
   "metadata": {},
   "source": [
    "## How to run more than one function at the same time\n",
    "Long operations on multiple instruments at the same time are sometimes unavoidable. Often these involve the local CPU idling, waiting for I/O operations to complete on the remote instrument. In these cases, it is convenient to be able to use threading to execute more than one of these operations at the same time. This is one type of concurrency. \n",
    "\n",
    "`labbench` includes simple concurrency support for this kind of I/O-constrained operation. It is not suitable for parallelizing CPU-intensive tasks because it relies on threading (which shares a single process on one CPU core) instead of multiprocessing (which may be able to spread operations across multiple CPU cores)."
   ]
  },
  {
   "cell_type": "markdown",
   "metadata": {},
   "source": [
    "### Example\n",
    "Here are very fake functions that just use `time.sleep` to block. They simulate longer instrument calls (such as triggering or acquisition) that take some time to complete.\n",
    "\n",
    "Notice that `do_something_3` takes 3 arguments (and returns them), and that `do_something_4` raises an exception."
   ]
  },
  {
   "cell_type": "code",
   "execution_count": 1,
   "metadata": {},
   "outputs": [],
   "source": [
    "import time\n",
    "\n",
    "def do_something_1 ():\n",
    "    print('start 1')\n",
    "    time.sleep(1)\n",
    "    print('end 1')\n",
    "    return 1\n",
    "\n",
    "def do_something_2 ():\n",
    "    print('start 2')\n",
    "    time.sleep(2)\n",
    "    print('end 2')\n",
    "    return 2\n",
    "\n",
    "def do_something_3 (a,b,c):\n",
    "    print('start 3')\n",
    "    time.sleep(2.5)\n",
    "    print('end 3')\n",
    "    return a,b,c \n",
    "\n",
    "def do_something_4 ():\n",
    "    print('start 4')\n",
    "    time.sleep(3)\n",
    "    raise ValueError('I had an error')\n",
    "    print('end 4')\n",
    "    return 4\n",
    "\n",
    "def do_something_5 ():\n",
    "    print('start 5')\n",
    "    time.sleep(4)\n",
    "    raise IndexError('I had a different error')\n",
    "    print('end 5')\n",
    "    return 4"
   ]
  },
  {
   "cell_type": "markdown",
   "metadata": {},
   "source": [
    "Here is the simplest example, where we call functions `do_something_1` and `do_something_2` that take no arguments and raise no exceptions:"
   ]
  },
  {
   "cell_type": "code",
   "execution_count": 2,
   "metadata": {},
   "outputs": [
    {
     "name": "stdout",
     "output_type": "stream",
     "text": [
      "start 1\n",
      "start 2\n",
      "end 1\n",
      "end 2\n"
     ]
    },
    {
     "data": {
      "text/plain": [
       "{'do_something_1': 1, 'do_something_2': 2}"
      ]
     },
     "execution_count": 2,
     "metadata": {},
     "output_type": "execute_result"
    }
   ],
   "source": [
    "from labbench import concurrently\n",
    "\n",
    "results = concurrently(do_something_1, do_something_2)\n",
    "results"
   ]
  },
  {
   "cell_type": "code",
   "execution_count": 3,
   "metadata": {},
   "outputs": [
    {
     "data": {
      "text/plain": [
       "{'do_something_1': 1, 'do_something_2': 2}"
      ]
     },
     "execution_count": 3,
     "metadata": {},
     "output_type": "execute_result"
    }
   ],
   "source": [
    "results"
   ]
  },
  {
   "cell_type": "code",
   "execution_count": 4,
   "metadata": {},
   "outputs": [
    {
     "data": {
      "text/plain": [
       "'do_something_1'"
      ]
     },
     "execution_count": 4,
     "metadata": {},
     "output_type": "execute_result"
    }
   ],
   "source": [
    "do_something_1.__name__"
   ]
  },
  {
   "cell_type": "markdown",
   "metadata": {},
   "source": [
    "We can also pass functions by wrapping the functions in `Call()`, which is a class designed for this purpose:"
   ]
  },
  {
   "cell_type": "code",
   "execution_count": 5,
   "metadata": {},
   "outputs": [
    {
     "name": "stdout",
     "output_type": "stream",
     "text": [
      "start 1\n",
      "start 3\n",
      "end 1\n",
      "end 3\n"
     ]
    },
    {
     "data": {
      "text/plain": [
       "{'do_something_1': 1, 'do_something_3': (1, 2, 3)}"
      ]
     },
     "execution_count": 5,
     "metadata": {},
     "output_type": "execute_result"
    }
   ],
   "source": [
    "from labbench import concurrently, Call\n",
    "\n",
    "results = concurrently(do_something_1, Call(do_something_3, 1,2,c=3))\n",
    "results"
   ]
  },
  {
   "cell_type": "markdown",
   "metadata": {},
   "source": [
    "More than one of the functions running concurrently may raise exceptions. Tracebacks print to the screen, and by default `ConcurrentException` is also raised:"
   ]
  },
  {
   "cell_type": "code",
   "execution_count": 6,
   "metadata": {},
   "outputs": [
    {
     "name": "stdout",
     "output_type": "stream",
     "text": [
      "start 4\n",
      "start 5\n"
     ]
    },
    {
     "name": "stderr",
     "output_type": "stream",
     "text": [
      "Traceback (most recent call last):\n",
      "  File \"<ipython-input-1-73606d5b193d>\", line 24, in do_something_4\n",
      "    raise ValueError('I had an error')\n",
      "ValueError: I had an error\n",
      "Traceback (most recent call last):\n",
      "  File \"<ipython-input-1-73606d5b193d>\", line 31, in do_something_5\n",
      "    raise IndexError('I had a different error')\n",
      "IndexError: I had a different error\n",
      "Traceback (most recent call last):\n",
      "  File \"C:\\Users\\dkuester\\AppData\\Local\\Continuum\\anaconda3\\lib\\site-packages\\IPython\\core\\interactiveshell.py\", line 3267, in run_code\n",
      "    exec(code_obj, self.user_global_ns, self.user_ns)\n",
      "  File \"<ipython-input-6-6e564c4e58e6>\", line 3, in <module>\n",
      "    results = concurrently(do_something_4, do_something_5)\n",
      "  File \"C:\\Users\\dkuester\\AppData\\Local\\Continuum\\anaconda3\\lib\\site-packages\\labbench\\util.py\", line 899, in concurrently\n",
      "    return concurrently_call(*objs, **kws)\n",
      "  File \"C:\\Users\\dkuester\\AppData\\Local\\Continuum\\anaconda3\\lib\\site-packages\\labbench\\util.py\", line 600, in concurrently_call\n",
      "    f'{len(tracebacks)} call(s) raised exceptions')\n",
      "labbench.util.ConcurrentException: 2 call(s) raised exceptions\n"
     ]
    }
   ],
   "source": [
    "from labbench import concurrently, Call\n",
    "\n",
    "results = concurrently(do_something_4, do_something_5)\n",
    "results"
   ]
  },
  {
   "cell_type": "markdown",
   "metadata": {},
   "source": [
    "the `catch` flag changes concurrent exception handling behavior to return values of functions that did not raise exceptions (instead of raising `ConcurrentException`). The return dictionary only includes keys for functions that did not raise exceptions."
   ]
  },
  {
   "cell_type": "code",
   "execution_count": null,
   "metadata": {},
   "outputs": [
    {
     "name": "stdout",
     "output_type": "stream",
     "text": [
      "start 4\n",
      "start 1\n",
      "end 1\n"
     ]
    }
   ],
   "source": [
    "from labbench import concurrently, Call\n",
    "\n",
    "results = concurrently(do_something_4, do_something_1, catch=True)\n",
    "results"
   ]
  }
 ],
 "metadata": {
  "kernelspec": {
   "display_name": "Python 3",
   "language": "python",
   "name": "python3"
  },
  "language_info": {
   "codemirror_mode": {
    "name": "ipython",
    "version": 3
   },
   "file_extension": ".py",
   "mimetype": "text/x-python",
   "name": "python",
   "nbconvert_exporter": "python",
   "pygments_lexer": "ipython3",
   "version": "3.7.1"
  }
 },
 "nbformat": 4,
 "nbformat_minor": 2
}
