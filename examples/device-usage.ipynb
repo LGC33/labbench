{
 "cells": [
  {
   "source": [
    "# Device objects\n",
    "A series of short working examples here illustrate the use of labbench `Device` classes for experiment automation. The python programming interface is in the module of the same name, but it is convenient to import it as `lb` for shorthand."
   ],
   "cell_type": "markdown",
   "metadata": {}
  },
  {
   "cell_type": "code",
   "execution_count": 1,
   "metadata": {},
   "outputs": [],
   "source": [
    "import labbench as lb\n",
    "lb.show_messages('debug')"
   ]
  },
  {
   "source": [
    "## Brief context\n",
    "### Role of subclasses \n",
    "The labbench module provides low-level python plumbing and utility functions to streamline lab automation, but not implementation for specific instrument or software. This specialization is meant to be written as Device subclasses in separate scripts or libraries.\n",
    "\n",
    "Each specialized `Device` subclass represents a wrapper for python-style access to lower-level APIs used lab automation. Supplying these classes with connection and resource information instantiates them as Device _objects_ that represent connection to a physical device or software resource.\n",
    "\n",
    "### Simulation examples\n",
    "Working examples need functioning implementation, so since many laboratory automation instruments communicate with SCPI messages with VISA, the focus will be on simulated VISA devices.\n",
    "\n",
    "The simulated virtual instruments are provided by [pyvisa-sim](pyvisa-sim.readthedocs.io/), and configured here in [sim_visa.yaml]. They are simple configuration value stores with some fixed traces.\n",
    "\n",
    "Subclasses for communicating with the simulated instruments are implemented in [sim_visa.py]. They are subclassed as `lb.Device` -> `lb.VISADevice` -> `lb.SimulatedVISADevice`.\n",
    "\n",
    "## Basic automation\n",
    "To start, here is an automation script for automation control over 2 instruments in a very simple experiment."
   ],
   "cell_type": "markdown",
   "metadata": {}
  },
  {
   "cell_type": "code",
   "execution_count": 9,
   "metadata": {},
   "outputs": [
    {
     "output_type": "stream",
     "name": "stderr",
     "text": [
      "\u001b[1;30m DEBUG \u001b[0m \u001b[32m2021-05-26 10:09:21.305\u001b[0m • \u001b[34mPowerSupply('USB::0x1111::0x2222::0x2468::INSTR'):\u001b[0m \u001b[32mopened\u001b[0m\n",
      "\u001b[1;30m DEBUG \u001b[0m \u001b[32m2021-05-26 10:09:21.307\u001b[0m • \u001b[34mSpectrumAnalyzer('GPIB::15::INSTR'):\u001b[0m \u001b[32mopened\u001b[0m\n",
      "\u001b[1;30m DEBUG \u001b[0m \u001b[32m2021-05-26 10:09:21.308\u001b[0m • \u001b[34mPowerSupply('USB::0x1111::0x2222::0x2468::INSTR'):\u001b[0m \u001b[32mwrite \"':VOLT:IMM:AMPL 5.0'\"\u001b[0m\n",
      "\u001b[1;30m DEBUG \u001b[0m \u001b[32m2021-05-26 10:09:21.310\u001b[0m • \u001b[34mPowerSupply('USB::0x1111::0x2222::0x2468::INSTR'):\u001b[0m \u001b[32mwrite \"'OUTP 1'\"\u001b[0m\n",
      "\u001b[1;30m DEBUG \u001b[0m \u001b[32m2021-05-26 10:09:21.311\u001b[0m • \u001b[34mSpectrumAnalyzer('GPIB::15::INSTR'):\u001b[0m \u001b[32mquery 'TRACE?'\u001b[0m\n",
      "C:\\Users\\dkuester\\Anaconda3\\lib\\site-packages\\pyvisa\\resources\\messagebased.py:644: UserWarning: read string doesn't end with termination characters\n",
      "  return self.read()\n",
      "\u001b[1;30m DEBUG \u001b[0m \u001b[32m2021-05-26 10:09:21.312\u001b[0m • \u001b[34mSpectrumAnalyzer('GPIB::15::INSTR'):\u001b[0m \u001b[32m      -> ''\u001b[0m\n",
      "\u001b[1;30m DEBUG \u001b[0m \u001b[32m2021-05-26 10:09:21.313\u001b[0m • \u001b[34mSpectrumAnalyzer('GPIB::15::INSTR'):\u001b[0m \u001b[32mclosed\u001b[0m\n",
      "\u001b[1;30m DEBUG \u001b[0m \u001b[32m2021-05-26 10:09:21.314\u001b[0m • \u001b[34mPowerSupply('USB::0x1111::0x2222::0x2468::INSTR'):\u001b[0m \u001b[32mclosed\u001b[0m\n",
      "USBInstrument at USB0::0x1111::0x2222::0x2468::0::INSTR @sim '\\n'\n",
      "''\n"
     ]
    }
   ],
   "source": [
    "import labbench as lb\n",
    "import numpy as np\n",
    "from sim_visa import PowerSupply, SpectrumAnalyzer\n",
    "\n",
    "# VISA Devices take a standard address string to create a resource\n",
    "signal_analyzer = SpectrumAnalyzer('GPIB::15::INSTR')\n",
    "supply = PowerSupply('USB::0x1111::0x2222::0x2468::INSTR')\n",
    "\n",
    "# show SCPI traffic\n",
    "lb.show_messages('debug')\n",
    "\n",
    "with supply, signal_analyzer:\n",
    "    print(supply.backend, supply._rm, repr(supply.read_termination))\n",
    "    supply.voltage = 5\n",
    "    supply.output_enabled = True\n",
    "\n",
    "    # trace_dB = 10*np.log10(signal_analyzer.fetch_trace())\n",
    "    print(repr(signal_analyzer.query('TRACE?\\n')))\n",
    "# trace_dB.plot();"
   ]
  },
  {
   "cell_type": "code",
   "execution_count": 12,
   "metadata": {},
   "outputs": [
    {
     "output_type": "execute_result",
     "data": {
      "text/plain": [
       "<ResourceManager(<SimVisaLibrary('unset')>)>"
      ]
     },
     "metadata": {},
     "execution_count": 12
    }
   ],
   "source": [
    "import pyvisa\n",
    "sup"
   ]
  },
  {
   "source": [
    "#### "
   ],
   "cell_type": "markdown",
   "metadata": {}
  },
  {
   "cell_type": "code",
   "execution_count": 4,
   "metadata": {},
   "outputs": [
    {
     "output_type": "stream",
     "text": [
      "\u001b[1;31mType:\u001b[0m           PowerSupply\n",
      "\u001b[1;31mString form:\u001b[0m    PowerSupply('USB::0x1111::0x2222::0x2468::INSTR')\n",
      "\u001b[1;31mFile:\u001b[0m           c:\\users\\dkuester\\documents\\src\\labbench\\examples\\sim_visa.py\n",
      "\u001b[1;31mDocstring:\u001b[0m     \n",
      "wrap the pyvisa-sim resource manager (resource '@sim')\n",
      "        for emulated instruments for the purposes of software testing\n",
      "        and demo \n",
      "    \n",
      "Value Attributes:\n",
      "    resource (str): device address or URI (allow_none=True)\n",
      "    read_termination (str): end of line string for reads\n",
      "    write_termination (str): end of line string for writes\n",
      "\n",
      "Property Attributes:\n",
      "    isopen (bool): is the backend ready?\n",
      "    status_byte (dict): status byte reported by the instrument (sets=False)\n",
      "    identity (str): identity string reported by the instrument (key='*IDN',sets=False,cache=True)\n",
      "    options (str): options reported by the instrument (key='*OPT',sets=False,cache=True)\n",
      "    voltage (float):  (key=':VOLT:IMM:AMPL',min=1,max=6)\n",
      "    current (float):  (key=':CURR:IMM:AMPL',min=1,max=6)\n",
      "    rail (str):  (key='INST',only=['P6V', 'P25V', 'N25V'])\n",
      "    output_enabled (bool):  (key='OUTP',remap={True: '1', False: '0'})\n",
      "\u001b[1;31mInit docstring:\u001b[0m\n",
      "Arguments:\n",
      "    resource (str): device address or URI (allow_none=True)\n",
      "    read_termination (str): end of line string for reads\n",
      "    write_termination (str): end of line string for writes\n",
      "    sweeps (int): number of traces to acquire (min=1)\n"
     ],
     "name": "stdout"
    }
   ],
   "source": [
    "supply?"
   ]
  },
  {
   "cell_type": "code",
   "execution_count": 10,
   "metadata": {},
   "outputs": [
    {
     "output_type": "execute_result",
     "data": {
      "text/plain": [
       "{'value': ['resource',\n",
       "  'concurrency',\n",
       "  'read_termination',\n",
       "  'write_termination',\n",
       "  'yaml_source'],\n",
       " 'property': ['isopen',\n",
       "  'status_byte',\n",
       "  'identity',\n",
       "  'options',\n",
       "  'voltage',\n",
       "  'current',\n",
       "  'rail',\n",
       "  'output_enabled'],\n",
       " 'datareturn': []}"
      ]
     },
     "metadata": {},
     "execution_count": 10
    }
   ],
   "source": [
    "def traits(device):\n",
    "    return dict(\n",
    "        value=list(device._value_attrs),\n",
    "        property=list(device._property_attrs),\n",
    "        datareturn=list(device._datareturn_attrs)\n",
    "    )\n",
    "\n",
    "traits(supply)"
   ]
  },
  {
   "source": [
    "### Generalizing from the example\n",
    "Different subclasses expose different method functions and attribute variables to wrap the underling low-level API. Still, several characteristics are standardized:\n",
    "- connection management through `with` block or `open`/`close` methods\n",
    "- an `isopen` property to indicate connection status\n",
    "- `resource` is accepted by the constructor, and may be changed afterward as a class attribute\n",
    "- hooks are available for data loggers and UIs to observe automation calls\n",
    "\n",
    "\n",
    "Device subclasses for different types of instruments and software differ in\n",
    "- the types of resource and configuration information\n",
    "- the specific resource of the class provided to control the device"
   ],
   "cell_type": "markdown",
   "metadata": {}
  },
  {
   "source": [
    "This gets more complicated when handling multiple devices, because connection failures leave a combination of open and closed:"
   ],
   "cell_type": "markdown",
   "metadata": {}
  },
  {
   "cell_type": "code",
   "execution_count": 19,
   "metadata": {},
   "outputs": [],
   "source": [
    "try:\r\n",
    "    base.open()\r\n",
    "    visa.open() # fails because its resource doesn't exist on the host\r\n",
    "    \r\n",
    "    # we don't get this far after visa.open() raises an exception\r\n",
    "    print(\"doing useful automation here\")\r\n",
    "    visa.close()\r\n",
    "    base.close()\r\n",
    "except:    \r\n",
    "    # we're left with a mixture of connection states\r\n",
    "    assert base.isopen==True and visa.isopen==False\r\n",
    "\r\n",
    "    # ...so we have to clean up the stray connection manually :(\r\n",
    "    base.close()"
   ]
  },
  {
   "source": [
    "Context management is easier and more clear. Everything inside the `with` block executes only if all devices open successfully, and ensures cleanup so that all devices are closed afterward."
   ],
   "cell_type": "markdown",
   "metadata": {}
  },
  {
   "cell_type": "code",
   "execution_count": 18,
   "metadata": {},
   "outputs": [],
   "source": [
    "try:\n",
    "    with base, visa: # does both base.open() and visa.open()\n",
    "        print('we never get in here, because visa.open() fails!')\n",
    "except:\n",
    "    # context management ensured a base.close() after visa.open() failed, \n",
    "    assert base.isopen==False and visa.isopen==False"
   ]
  },
  {
   "cell_type": "code",
   "execution_count": null,
   "metadata": {},
   "outputs": [],
   "source": [
    "\n",
    "data logging, type checking,and numerical bounds validation. \n",
    "\n",
    "These features are common to all `Device` classes (and derived classes). To get started, provide  by minimum working examples. Examples will use  we'll look into the more specialized capabilities provided by other `Device` subclasses included `labbench` for often-used backend APIs like serial and VISA."
   ]
  },
  {
   "cell_type": "markdown",
   "metadata": {},
   "source": [
    "### Example\n",
    "Here are very fake functions that just use `time.sleep` to block. They simulate longer instrument calls (such as triggering or acquisition) that take some time to complete.\n",
    "\n",
    "Notice that `do_something_3` takes 3 arguments (and returns them), and that `do_something_4` raises an exception."
   ]
  },
  {
   "cell_type": "code",
   "execution_count": 1,
   "metadata": {},
   "outputs": [],
   "source": [
    "import labbench as lb"
   ]
  },
  {
   "cell_type": "markdown",
   "metadata": {},
   "source": [
    "Here is the simplest example, where we call functions `do_something_1` and `do_something_2` that take no arguments and raise no exceptions:"
   ]
  },
  {
   "cell_type": "code",
   "execution_count": 2,
   "metadata": {},
   "outputs": [
    {
     "name": "stdout",
     "output_type": "stream",
     "text": [
      "start 1\n",
      "start 2\n",
      "end 1\n",
      "end 2\n"
     ]
    },
    {
     "data": {
      "text/plain": [
       "{'do_something_1': 1, 'do_something_2': 2}"
      ]
     },
     "execution_count": 2,
     "metadata": {},
     "output_type": "execute_result"
    }
   ],
   "source": [
    "from labbench import concurrently\n",
    "\n",
    "results = concurrently(do_something_1, do_something_2)\n",
    "results"
   ]
  },
  {
   "cell_type": "code",
   "execution_count": 3,
   "metadata": {},
   "outputs": [
    {
     "data": {
      "text/plain": [
       "{'do_something_1': 1, 'do_something_2': 2}"
      ]
     },
     "execution_count": 3,
     "metadata": {},
     "output_type": "execute_result"
    }
   ],
   "source": [
    "results"
   ]
  },
  {
   "cell_type": "code",
   "execution_count": 4,
   "metadata": {},
   "outputs": [
    {
     "data": {
      "text/plain": [
       "'do_something_1'"
      ]
     },
     "execution_count": 4,
     "metadata": {},
     "output_type": "execute_result"
    }
   ],
   "source": [
    "do_something_1.__name__"
   ]
  },
  {
   "cell_type": "markdown",
   "metadata": {},
   "source": [
    "We can also pass functions by wrapping the functions in `Call()`, which is a class designed for this purpose:"
   ]
  },
  {
   "cell_type": "code",
   "execution_count": 5,
   "metadata": {},
   "outputs": [
    {
     "name": "stdout",
     "output_type": "stream",
     "text": [
      "start 1\n",
      "start 3\n",
      "end 1\n",
      "end 3\n"
     ]
    },
    {
     "data": {
      "text/plain": [
       "{'do_something_1': 1, 'do_something_3': (1, 2, 3)}"
      ]
     },
     "execution_count": 5,
     "metadata": {},
     "output_type": "execute_result"
    }
   ],
   "source": [
    "from labbench import concurrently, Call\n",
    "\n",
    "results = concurrently(do_something_1, Call(do_something_3, 1,2,c=3))\n",
    "results"
   ]
  },
  {
   "cell_type": "markdown",
   "metadata": {},
   "source": [
    "More than one of the functions running concurrently may raise exceptions. Tracebacks print to the screen, and by default `ConcurrentException` is also raised:"
   ]
  },
  {
   "cell_type": "code",
   "execution_count": 6,
   "metadata": {},
   "outputs": [
    {
     "name": "stdout",
     "output_type": "stream",
     "text": [
      "start 4\n",
      "start 5\n"
     ]
    },
    {
     "name": "stderr",
     "output_type": "stream",
     "text": [
      "Traceback (most recent call last):\n",
      "  File \"<ipython-input-1-73606d5b193d>\", line 24, in do_something_4\n",
      "    raise ValueError('I had an error')\n",
      "ValueError: I had an error\n",
      "Traceback (most recent call last):\n",
      "  File \"<ipython-input-1-73606d5b193d>\", line 31, in do_something_5\n",
      "    raise IndexError('I had a different error')\n",
      "IndexError: I had a different error\n",
      "Traceback (most recent call last):\n",
      "  File \"C:\\Users\\dkuester\\AppData\\Local\\Continuum\\anaconda3\\lib\\site-packages\\IPython\\core\\interactiveshell.py\", line 3267, in run_code\n",
      "    exec(code_obj, self.user_global_ns, self.user_ns)\n",
      "  File \"<ipython-input-6-6e564c4e58e6>\", line 3, in <module>\n",
      "    results = concurrently(do_something_4, do_something_5)\n",
      "  File \"C:\\Users\\dkuester\\AppData\\Local\\Continuum\\anaconda3\\lib\\site-packages\\labbench\\util.py\", line 899, in concurrently\n",
      "    return concurrently_call(*objs, **kws)\n",
      "  File \"C:\\Users\\dkuester\\AppData\\Local\\Continuum\\anaconda3\\lib\\site-packages\\labbench\\util.py\", line 600, in concurrently_call\n",
      "    f'{len(tracebacks)} call(s) raised exceptions')\n",
      "labbench.util.ConcurrentException: 2 call(s) raised exceptions\n"
     ]
    }
   ],
   "source": [
    "from labbench import concurrently, Call\n",
    "\n",
    "results = concurrently(do_something_4, do_something_5)\n",
    "results"
   ]
  },
  {
   "cell_type": "markdown",
   "metadata": {},
   "source": [
    "the `catch` flag changes concurrent exception handling behavior to return values of functions that did not raise exceptions (instead of raising `ConcurrentException`). The return dictionary only includes keys for functions that did not raise exceptions."
   ]
  },
  {
   "cell_type": "code",
   "execution_count": 7,
   "metadata": {},
   "outputs": [
    {
     "name": "stdout",
     "output_type": "stream",
     "text": [
      "start 4\n",
      "start 1\n",
      "end 1\n"
     ]
    },
    {
     "data": {
      "text/plain": [
       "{'do_something_1': 1}"
      ]
     },
     "execution_count": 7,
     "metadata": {},
     "output_type": "execute_result"
    }
   ],
   "source": [
    "from labbench import concurrently, Call\n",
    "\n",
    "results = concurrently(do_something_4, do_something_1, catch=True)\n",
    "results"
   ]
  }
 ],
 "metadata": {
  "kernelspec": {
   "name": "python385jvsc74a57bd0584ca3e41de69dadb90590574368a536937183574270e0c5348c810208f0dc2f",
   "display_name": "Python 3.8.5 64-bit ('base': conda)"
  },
  "language_info": {
   "codemirror_mode": {
    "name": "ipython",
    "version": 3
   },
   "file_extension": ".py",
   "mimetype": "text/x-python",
   "name": "python",
   "nbconvert_exporter": "python",
   "pygments_lexer": "ipython3",
   "version": "3.8.5"
  }
 },
 "nbformat": 4,
 "nbformat_minor": 2
}