{
 "cells": [
  {
   "cell_type": "markdown",
   "metadata": {},
   "source": [
    "## Object oriented programming for device control\n",
    "\n",
    "The central theme of `labbench` is to create a simple work flow for writing and using reusable drivers to control devices from within python. The goal is to make the use the features of the language that help us write code that has a maintainable and reusable structure.\n",
    "\n",
    "This discussion assumes you are familiar with the idea of sending [SCPI](https://en.wikipedia.org/wiki/Standard_Commands_for_Programmable_Instruments) strings to control instruments over visa with something like [pyvisa](https://pyvisa.readthedocs.io/en/stable/).\n",
    "\n",
    "Each `labbench` driver is implemented as a python class. A class is just a convenient way to organize functions and objects together when we need to use them for a common purpose. In python, there is a change in jargon for functions and values that they are a members of a class:\n",
    "\n",
    "* members that are functions are called \"methods,\" and\n",
    "* members that are values (like numbers, strings, or instances of other classes) are called \"attributes.\"\n",
    "\n",
    "### Example 1: Raw use of pyvisa to control instruments\n",
    "As a starting point, consider two simple instrument automation tasks where we do _not_ use any object oriented structure. First, here a simple example where we directly use `pyvisa` to send SCPI command strings:"
   ]
  },
  {
   "cell_type": "code",
   "execution_count": null,
   "metadata": {},
   "outputs": [],
   "source": [
    "# filename: run_my_test.py\n",
    "# Direct use of pyvisa for instrument control\n",
    "\n",
    "import pyvisa\n",
    "\n",
    "rm = pyvisa.ResourceManager('@ni')\n",
    "specan_handle = rm.open_resource('TCPIP::TILSIT::::INSTR', read_termination='\\n')\n",
    "identity = specan_handle.query('*IDN?')\n",
    "specan_handle.write(':FREQ 5e9')\n",
    "specan_handle.close()"
   ]
  },
  {
   "cell_type": "markdown",
   "metadata": {},
   "source": [
    "this very simple example works just fine for the simple task of printing two aspects of the current instrument state.\n",
    "\n",
    "### Example 2: Simple class-based (object oriented) drivers\n",
    "By wrapping each of these commands into methods (functions) of a single driver class for this instrument, we've organized the code to make it easier to read, by encapsulating the SCPI strings inside a more descriptive method name. We've also put the driver class into a separate file, called `driver.py`, which we can share with our friends."
   ]
  },
  {
   "cell_type": "code",
   "execution_count": null,
   "metadata": {},
   "outputs": [],
   "source": [
    "# filename: driver.py\n",
    "# Object-oriented driver definition\n",
    "\n",
    "import pyvisa\n",
    "\n",
    "rm = pyvisa.ResourceManager('@ni')\n",
    "\n",
    "# Define a driver class that includes methods (class functions)\n",
    "# to \n",
    "class SpectrumAnalyzerDevice:\n",
    "    def open (self)\n",
    "        self.handle = rm.open_resource(resource, read_termination='\\n')\n",
    "        \n",
    "    def get_identity (self):\n",
    "        return self.handle.query('*IDN?')\n",
    "    \n",
    "    def set_center_frequency (self, frequency):\n",
    "        self.handle.write(':FREQ {}'.format(frequency))\n",
    "    \n",
    "    def close (self):\n",
    "        self.handle.close()"
   ]
  },
  {
   "cell_type": "code",
   "execution_count": null,
   "metadata": {},
   "outputs": [],
   "source": [
    "# filename: run_my_test.py\n",
    "# Use of our object-oriented driver\n",
    "from driver import SpectrumAnalyzerDevice\n",
    "\n",
    "specan = SpectrumAnalyzerDevice()\n",
    "specan.connect('TCPIP::10.0.0.1::::INSTR')\n",
    "identity = specan.get_identity()\n",
    "specan.set_center_frequency(5e9)\n",
    "specan.disconnect()"
   ]
  },
  {
   "cell_type": "markdown",
   "metadata": {},
   "source": [
    "This is the object-oriented approach to organizing our code. It has some important features to point out compared to regular python functions:\n",
    "* Calls to pyvisa are contained entirely in our driver file `driver.py` - we don't have to think about (or even understand) pyvisa or SCPI strings to use this driver. We don't even need to know that the driver uses pyvisa. We just need a valid VISA resource string. This is what developers call the principle of __encapsulation__.\n",
    "\n",
    "* The block of code that starts with `class` is the definition of the driver. This includes each method (recall this means member function) definition. The variable `specan` is the __instance__ of the driver that we can use to actually control the instrument.\n",
    "\n",
    "* The line `specan = SpectrumAnalyzerDevice()` assigns an _instance_ of the driver to `specan`. It looks kind of like a function call, but what it does is make a fresh \"bundle\" of the methods and values according to the class definition. If we have more than one of this type of spectrum analyzer, we could make more than one instance of the instrument, and connect each of them to different VISA resources. For example:\n",
    "  ```python\n",
    "  specan1 = SpectrumAnalyzerDevice()\n",
    "  specan2 = SpectrumAnalyzerDevice()\n",
    "  specan1.connect('TCPIP::10.0.0.1::::INSTR')\n",
    "  specan2.connect('TCPIP::10.0.0.2::::INSTR')\n",
    "  specan1.disconnect()\n",
    "  specan2.disconnect()\n",
    "  ```\n",
    "  they were each _instantiated_ with their own call to SpectrumAnalyzerDevice(), and so they each have their own `handle` created on connect()\n",
    "  \n",
    "* Each method has the same first argument, `self`. This is the driver instance: the bundle of methods (like `__init__`, `get_identity`, `get_center_frequency`, and `close`) and attributes (like `handle`). This is passed automatically whenever you call a class method (like we did with `identity = specan.get_identity()`).\n",
    "\n",
    "  __The `self` argument passed into the function is the class instance, which is exactly the same as the variable `specan` that we created in the bottom of code!__ Our class definition is equivalent to defining and calling a function like this:\n",
    "  \n",
    "  ```python\n",
    "      def set_center_frequency_from_outside_the_class (device):\n",
    "          device.handle.write(':FREQ {}'.format(frequency))\n",
    "          \n",
    "      set_center_frequency_from_outside_the_class(specan)\n",
    "  ```\n",
    "  \n",
    "  or manually writing this block of code at the end of the file:\n",
    "  \n",
    "  ```python\n",
    "      specan.handle.write(':FREQ 5e9')\n",
    "  ```\n",
    "  \n",
    "### Example 3: Inheritance and reducing boilerplate\n",
    "Suppose now that instead of a single driver we want a library that includes drivers for multiple VISA instruments. This is where inheritance and a little abstraction can save us a lot of work. We can define a _base class_ that implements the generic functions we expect to work for any VISA instrument, and then use _inheritance_ to make more specialized driver classes (called subclasses) that automatically include the class definition of the general VISA instrument driver, plus more methods that are specialized to these devices.  Here's an example:"
   ]
  },
  {
   "cell_type": "code",
   "execution_count": null,
   "metadata": {
    "collapsed": true
   },
   "outputs": [],
   "source": [
    "# filename: driver.py\n",
    "# Object-oriented driver definition\n",
    "\n",
    "import pyvisa\n",
    "\n",
    "# Define a driver class that includes methods (class functions)\n",
    "class VISADevice:\n",
    "    _rm = pyvisa.ResourceManager('@ni') # every Device\n",
    "\n",
    "    def open (self)\n",
    "        self.handle = self._rm.open_resource(resource, read_termination='\\n')\n",
    "        \n",
    "    def get_identity (self):\n",
    "        return self.handle.query('*IDN?')\n",
    "    \n",
    "    def close (self):\n",
    "        self.handle.close()\n",
    "\n",
    "class SpectrumAnalyzerDevice(VISADevice):   \n",
    "    def set_center_frequency (self, frequency):\n",
    "        self.handle.write(':FREQ {}'.format(frequency))\n",
    "        \n",
    "class SignalGeneratorDevice(VISADevice):   \n",
    "    def set_output_power (self, power_dBm):\n",
    "        self.handle.write(':POW {}'.format(power_dBm))"
   ]
  },
  {
   "cell_type": "code",
   "execution_count": null,
   "metadata": {
    "collapsed": true
   },
   "outputs": [],
   "source": [
    "# filename: run_my_test.py\n",
    "# Use of our object-oriented driver library\n",
    "\n",
    "from driver import SpectrumAnalyzerDevice, SignalGeneratorDevice\n",
    "\n",
    "specan = SpectrumAnalyzerDevice()\n",
    "siggen = SignalGeneratorDevice()\n",
    "\n",
    "specan.connect('TCPIP::10.0.0.1::::INSTR')\n",
    "siggen.connect('TCPIP::10.0.0.3::::INSTR')\n",
    "\n",
    "identity = specan.get_identity()\n",
    "specan.set_center_frequency(5e9)\n",
    "siggen.set_output_power(+10.)\n",
    "\n",
    "specan.disconnect()\n",
    "siggen.disconnect()"
   ]
  },
  {
   "cell_type": "markdown",
   "metadata": {},
   "source": [
    "Notice this new part of the driver definition syntax:\n",
    "  ```python\n",
    "     class SpectrumAnalyzerDevice(VISADevice):\n",
    "  ```\n",
    "defines the new class SpectrumAnalyzerDevice with inheritance from `VISADevice`.  This means:\n",
    "1. `SpectrumAnalyzerDevice` and `SignalGeneratorDevice` each have the methods `connect`, `get_identity`, and `disconnect` from `VISAInstrument`\n",
    "2. I can still use `connect`, `get_identity`, and `disconnect` in both of `specan` and `siggen` like I did in Example 2. They create and interact with a `handle` attribute (`specan.handle` and `siggen.handle`).\n",
    "\n",
    "This approach has some benefits:\n",
    "* I need to make change or add generic VISA functionality, I only have to change them in one place: the `VISADevice` class definition. That change would be automatically apply to both `SpectrumAnalyzerDevice` and `SignalGeneratorDevice` via inheritance. In this sense, the code is more _maintainable_, because I don't need to copy and paste definitions for `connect`, `disconnect`, and `get_identity`, and I don't need to try to maintain multiple copies of the same function definitions.\n",
    "* Each driver class for a specific VISA device only needs methods and attributes that are different from the generic VISA driver, making the resulting class definitions shorter and easier to read.\n",
    "\n",
    "There are also drawbacks. Suppose a class C2 inherits from class C1, and class C3 inherits from C2, it can become difficult to get a complete understanding of the entire list of methods and attributes in an instance of C3. It becomes useful in these cases to implement automatic source code documentation, or to use python's `dir` function (or spyder tab autocompletion) to list the contents of a driver instance.\n",
    "\n",
    "### Example 4: An actual `labbench` driver\n",
    "An actual driver for a variable attenuator is listed below. It makes use of inheritance like we discussed above. This one inherits from the base `labbench` device driver, `core.Device`. The implementation in thise case is a .NET DLL library, not VISA, so we have to implement our own `connect` and `disconnect`. We also make some use of device state definitions (discussed in a later document)."
   ]
  },
  {
   "cell_type": "code",
   "execution_count": null,
   "metadata": {
    "collapsed": true
   },
   "outputs": [],
   "source": [
    "from labbench.dotnet import import_dotnet\n",
    "import ssmdevices\n",
    "\n",
    "dll = import_dotnet('ssmdevices/lib/mcl_RUDAT64.dll',\n",
    "                    path=['.','..',ssmdevices])\n",
    "\n",
    "class VariableAttenuator(core.Device):\n",
    "    """ A digitally controlled, 0 to 115 dB variable attenuator.\n",
    "\n",
    "        Ensure that the windows DLL driver is installed by copying mcl_RUDAT64.dll from\n",
    "        the manufacturer website or install CD into C:\\Windows\\SysWOW64\\.\n",
    "\n",
    "        This implementation calls the .NET drivers provided by the manufacturer\n",
    "        instead of the C DLL drivers recommended by the manufacturer in order\n",
    "        to support 64-bit python.\n",
    "    """\n",
    "\n",
    "    class state(core.Device.state):\n",
    "        attenuation = core.Float(min=0, max=115, step=0.25)\n",
    "\n",
    "        @attenuation.getter\n",
    "        def attenuation(self, device):\n",
    "            return device.driver.Read_Att(0)[1]\n",
    "\n",
    "        @attenuation.setter\n",
    "        def attenuation(self, device, value):\n",
    "            device.driver.SetAttenuation(value)\n",
    "\n",
    "    def open (self):\n",
    "        """ Open the device resource.\n",
    "        """\n",
    "        self.driver = dll.USB_RUDAT()\n",
    "        if self.driver.Connect(self.resource)[0] != 1:\n",
    "            raise Exception('Cannot connect to attenuator resource {}'.format(self.resource))\n",
    "        self.state.connected = True\n",
    "\n",
    "    def close(self):\n",
    "        """ Release the attenuator hardware resource via the driver DLL.\n",
    "        """\n",
    "        try:\n",
    "            self.driver.Disconnect()\n",
    "        except:\n",
    "            self.state.connected = False\n",
    "        self.driver = None"
   ]
  }
 ],
 "metadata": {
  "kernelspec": {
   "display_name": "Python 3",
   "language": "python",
   "name": "python3"
  },
  "language_info": {
   "codemirror_mode": {
    "name": "ipython",
    "version": 3
   },
   "file_extension": ".py",
   "mimetype": "text/x-python",
   "name": "python",
   "nbconvert_exporter": "python",
   "pygments_lexer": "ipython3",
   "version": "3.7.1"
  }
 },
 "nbformat": 4,
 "nbformat_minor": 1
}
