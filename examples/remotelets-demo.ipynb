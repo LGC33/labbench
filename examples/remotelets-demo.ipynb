{
 "cells": [
  {
   "cell_type": "code",
   "execution_count": 1,
   "metadata": {
    "collapsed": false
   },
   "outputs": [
    {
     "name": "stdout",
     "output_type": "stream",
     "text": [
      "Populating the interactive namespace from numpy and matplotlib\n",
      "C:\\Users\\dkuester\\Documents\\src\\remotelets\n",
      "Available visa resources:  (u'USB0::0x2A8D::0x1E01::SG56360004::INSTR', u'ASRL1::INSTR', u'ASRL3::INSTR')\n"
     ]
    }
   ],
   "source": [
    "# First some imports and setup\n",
    "%pylab inline\n",
    "import seaborn as sns\n",
    "sns.set(style='ticks')\n",
    "%cd ..\n",
    "from remotelets import *\n",
    "from IPython.display import display, clear_output\n",
    "import pandas as pd\n",
    "import visa,time\n",
    "\n",
    "# Set up a visa resource manager\n",
    "rm = visa.ResourceManager('@ni')\n",
    "print 'Available visa resources: ', rm.list_resources()\n",
    "\n",
    "visa_resource_string = 'USB0::0x2A8D::0x1E01::SG56360004::INSTR'"
   ]
  },
  {
   "cell_type": "markdown",
   "metadata": {},
   "source": [
    "# Device control demo\n",
    "\n",
    "### Instrument control with bare pyvisa\n",
    "pyvisa gives us methods for sending SCPI command strings to instruments, and receiving instrument responses. Code based on [the manufacturer's programming manual](http://literature.cdn.keysight.com/litweb/pdf/U2041-90003.pdf) looks like this:"
   ]
  },
  {
   "cell_type": "code",
   "execution_count": 3,
   "metadata": {
    "collapsed": false
   },
   "outputs": [
    {
     "data": {
      "text/plain": [
       "<matplotlib.text.Text at 0xc90e080>"
      ]
     },
     "execution_count": 3,
     "metadata": {},
     "output_type": "execute_result"
    },
    {
     "data": {
      "image/png": "[encoded data removed]",
      "text/plain": [
       "<matplotlib.figure.Figure at 0xc5d5358>"
      ]
     },
     "metadata": {},
     "output_type": "display_data"
    }
   ],
   "source": [
    "sensor = rm.open_resource(visa_resource_string, read_termination = '\\n', write_termination = '\\n')\n",
    "\n",
    "# this try...finally structure ensures the visa link to the sensor is closed,\n",
    "# even if there's an exception in the try block\n",
    "try:\n",
    "    # Configure\n",
    "    sensor.write('SYST:PRES;*OPC')      # Presets the U2040 X-Series to default values.\n",
    "    sensor.query('*OPC?')              \n",
    "    sensor.write('SENS:FREQ 1e9')       # Sets the frequency to 1 GHz.\n",
    "    sensor.write('SENS:MRAT FAST')      # Sets the measurement speed to fast mode.\n",
    "    sensor.write('TRIG:COUN 200')       # Configure for 200 readings per call to FETC?\n",
    "    sensor.write('SENS:SWE:APER 20e-6') # Sets the aperture size to 20 μs (50000 measurements per second).\n",
    "    sensor.write('TRIG:SOUR IMM')       # Configure sensor for continuous triggering\n",
    "    sensor.write('INIT:CONT ON;*OPC')   # Configure sensor for continuous triggering\n",
    "    sensor.query('*OPC?')               # Block until we get a response\n",
    "    \n",
    "    response = sensor.query('FETC?',delay=0.1)                 # Pull in readings from the sensor\n",
    "    power = pd.Series([float(s) for s in response.split(',')]) # Convert comma-seperated list of power levels to floats\n",
    "finally:\n",
    "    sensor.close()\n",
    "\n",
    "power.hist(figsize=(6,2)); xlabel('Power level'); ylabel('Count'); title('Histogram of power sensor readings')"
   ]
  },
  {
   "cell_type": "markdown",
   "metadata": {},
   "source": [
    "Suppose this task is done now, but it's a couple of weeks later and I need to make an adjustment: my statistician tells me that I need 500 points. Easy! Let's just change 200 to 500 and see what happens:"
   ]
  },
  {
   "cell_type": "code",
   "execution_count": 4,
   "metadata": {
    "collapsed": false
   },
   "outputs": [
    {
     "data": {
      "text/plain": [
       "<matplotlib.text.Text at 0xcae36a0>"
      ]
     },
     "execution_count": 4,
     "metadata": {},
     "output_type": "execute_result"
    },
    {
     "data": {
      "image/png": "[encoded data removed]",
      "text/plain": [
       "<matplotlib.figure.Figure at 0xc5d5240>"
      ]
     },
     "metadata": {},
     "output_type": "display_data"
    }
   ],
   "source": [
    "rm = visa.ResourceManager('@ni')\n",
    "sensor = rm.open_resource(visa_resource_string, read_termination = '\\n', write_termination = '\\n')\n",
    "\n",
    "try:\n",
    "    # Configure\n",
    "    sensor.write('SYST:PRES;*OPC')      # Presets the U2040 X-Series to default values.\n",
    "    sensor.query('*OPC?')              \n",
    "    sensor.write('SENS:FREQ 1e9')       # Sets the frequency to 1 GHz.\n",
    "    sensor.write('SENS:MRAT FAST')      # Sets the measurement speed to fast mode.\n",
    "    sensor.write('TRIG:COUN 500')       # Configure for 200 readings per call to FETC?\n",
    "    sensor.write('SWE:APER 20e-6')      # Sets the aperture size to 20 μs (50000 measurements per second).\n",
    "    sensor.write('TRIG:SOUR IMM')       # Configure sensor for continuous triggering\n",
    "    sensor.write('INIT:CONT ON;*OPC')   # Configure sensor for continuous triggering\n",
    "    sensor.query('*OPC?')               # Block until we get a response\n",
    "    \n",
    "    response = sensor.query('FETC?',delay=0.1)                 # Pull in readings from the sensor\n",
    "    power = pd.Series([float(s) for s in response.split(',')]) # Convert comma-seperated list of power levels to floats\n",
    "finally:\n",
    "    # Use of this try...finally structure ensures the visa link to the sensor is closed,\n",
    "    # even if there's an error in the try block\n",
    "    sensor.close()\n",
    "    \n",
    "power.hist(figsize=(6,2)); xlabel('Power level'); ylabel('Count'); title('Histogram of power sensor readings')"
   ]
  },
  {
   "cell_type": "markdown",
   "metadata": {},
   "source": [
    "We've run into an annoyance here: one data point back instead of 500. Now I have to dig up [the manufacturer's programming manual](http://literature.cdn.keysight.com/litweb/pdf/U2041-90003.pdf) again to do some searching to find out that the sensor only supports up to 200 at a time.\n",
    "\n",
    "#### pain points\n",
    "* debugging changes to bare SCPI strings means going back to the manufacturer pdf\n",
    "* getting numeric data means messy stuff like this *every time*:\n",
    "  ```python\n",
    "  power = pd.Series([float(s) for s in sensor.query('FETC?',delay=0.1).split(',')])\n",
    "  ```\n",
    "* modern code editors don't help us with perks here --- they don't know about the SCPI strings in these instruments (no tab autocomplete)\n",
    "* silent failure when I send bad strings, especially on sensors like this that have no displays to show error. If I send an invalid command,\n",
    "  ```python\n",
    "  sensor.write('FREQ 1e9')\n",
    "  ```\n",
    "  or set a frequency that is out of bounds,\n",
    "  ```python\n",
    "  sensor.write('FREQ 100e9')\n",
    "  ```\n",
    "  then I get *no feedback* that from the instrument or my script that the SCPI command did not work. I may think that I've set the frequency in the instrument, but I have not. I have to do debugging just to see if the command is valid or not.\n",
    "\n",
    "These problems lead toward similar ends: **the next person to try to automate this instrument (either me or another person) is likely to start over from scratch instead of benefit from what I've already learned here.** In other words, my code is not maintainable, and not reusable."
   ]
  },
  {
   "cell_type": "markdown",
   "metadata": {},
   "source": [
    "### Reusable driver code based on remotelets\n",
    "`remotelets` builds on pyvisa. The point of remotelets is to make it easier write reusable code to automate instrumentation tasks, make the process of coding automation coding faster and more pleasant. We'd start by making a reusable driver class that has special *attributes* that map closely to the SCPI commands:"
   ]
  },
  {
   "cell_type": "code",
   "execution_count": 6,
   "metadata": {
    "collapsed": false,
    "scrolled": true
   },
   "outputs": [],
   "source": [
    "class KeysightU2040XSeries(VISAInstrument):\n",
    "    ''' This is my cool driver for Keysight U2040 X-Series power sensors\n",
    "    '''\n",
    "    connection_settings     = {'read_termination':  '\\n',\n",
    "                               'write_termination': '\\n'}\n",
    "\n",
    "    initiate_continuous     = SCPI(Bool(),                                         'INIT:CONT')    \n",
    "    output_trigger          = SCPI(Bool(),                                         'OUTP:TRIG')\n",
    "    trigger_source          = SCPI(EnumBytes(['IMM','INT','EXT','BUS','INT1']),    'TRIG:SOUR')\n",
    "    trigger_count           = SCPI(Int(min=1,max=200,step=1,help=\"help me\"),       'TRIG:COUN')\n",
    "    measurement_rate        = SCPI(EnumBytes(['NORM','DOUB','FAST']),              'SENS:MRAT')\n",
    "    sweep_aperture          = SCPI(Float(min=20e-6, max=200e-3,label='s'),         'SWE:APER')\n",
    "    frequency               = SCPI(Float(min=10e6, max=18e9,step=1e-3,label='Hz'), 'SENS:FREQ')\n",
    "    \n",
    "    def preset (self, block=True):\n",
    "        if block:\n",
    "            self.link.write('SYST:PRES;*OPC')\n",
    "            self.link.query('*OPC?')\n",
    "        else:\n",
    "            self.link.write('SYST:PRES')\n",
    "\n",
    "    def fetch (self):\n",
    "        ''' Return a single number or pandas Series containing the power readings\n",
    "        '''\n",
    "        response = self.link.query('FETC?')\n",
    "        return pd.Series([float(s) for s in response.split(',')])"
   ]
  },
  {
   "cell_type": "markdown",
   "metadata": {},
   "source": [
    "We'd collect this with other drivers, somewhere other people can easily more functions and parameters (how about a git repository?). A few points about what we've set up here:\n",
    "* `class KeysightU2040XSeries(VISAInstrument)` defines a driver class with all of the features of the generic VISAInstrument from the remotelets module\n",
    "* `connection_settings` is a dictionary of options that get passed into the resource manager `open_resource` method when we make a connection to the instrument\n",
    "* Lines that create class attributes with SCPI(...) calls set up all of the logic necessary to get and set simple parameters: the simple instrument settings that determine device state and don't need any arguments\n",
    "* Other lines we can implement specially, like the `fetch` and `preset` methods\n",
    "\n",
    "Now we can do the same thing we did at the top without hard-coding strings:"
   ]
  },
  {
   "cell_type": "code",
   "execution_count": 7,
   "metadata": {
    "collapsed": false
   },
   "outputs": [
    {
     "data": {
      "text/plain": [
       "<matplotlib.text.Text at 0xcd40f28>"
      ]
     },
     "execution_count": 7,
     "metadata": {},
     "output_type": "execute_result"
    },
    {
     "data": {
      "image/png": "[encoded data removed]",
      "text/plain": [
       "<matplotlib.figure.Figure at 0x68074e0>"
      ]
     },
     "metadata": {},
     "output_type": "display_data"
    }
   ],
   "source": [
    "# from remotelets_drivers.power_sensors import KeysightU2040XSeries\n",
    "\n",
    "sensor = KeysightU2040XSeries(visa_resource_string) # Instantiate the driver\n",
    "sensor.connected = True # Connect to the hardware\n",
    "\n",
    "try:\n",
    "    # Configure\n",
    "    sensor.preset()\n",
    "    sensor.frequency           = 1e9\n",
    "    sensor.measurement_rate    = 'FAST'\n",
    "    sensor.trigger_count       = 200\n",
    "    sensor.sweep_aperture      = 20e-6\n",
    "    sensor.trigger_source      = 'IMM'\n",
    "    sensor.initiate_continuous = True\n",
    "    \n",
    "    power = sensor.fetch()\n",
    "finally:\n",
    "    sensor.disconnect()\n",
    "power.hist(figsize=(6,2)); xlabel('Power level'); ylabel('Count'); title('Histogram of power sensor readings')"
   ]
  },
  {
   "cell_type": "markdown",
   "metadata": {},
   "source": [
    "There are some key advantages in using the remotelets driver to control the sensor:\n",
    "* The sensor attributes that we edit, like `frequency`, have names that are more readable and descriptive than the SCPI strings, but it's actually *easier* to type them because of autocompletion\n",
    "* The sensor driver instance here supports *callbacks*, which means we can hook in other features like loggers (like outputting SQL or csv files) or GUIs.\n",
    "* Metadata about valid bounds (for numerical parameters) or valid string options (for EnumBytes parameters) is built-in; we don't have to look it up every time we need to change something\n",
    "\n",
    "As an illustration, suppose now we try to make the change to 500 triggers:"
   ]
  },
  {
   "cell_type": "code",
   "execution_count": 8,
   "metadata": {
    "collapsed": false,
    "scrolled": true
   },
   "outputs": [
    {
     "ename": "TraitError",
     "evalue": "The value of the 'trigger_count' trait of a KeysightU2040XSeries instance should not be greater than 200, but a value of 500 was specified",
     "traceback": [
      "\u001b[0;31m---------------------------------------------------------------------------\u001b[0m",
      "\u001b[0;31mTraitError\u001b[0m                                Traceback (most recent call last)",
      "\u001b[0;32m<ipython-input-8-c1ada9e79c2c>\u001b[0m in \u001b[0;36m<module>\u001b[0;34m()\u001b[0m\n\u001b[1;32m      7\u001b[0m     \u001b[0msensor\u001b[0m\u001b[1;33m.\u001b[0m\u001b[0mfrequency\u001b[0m           \u001b[1;33m=\u001b[0m \u001b[1;36m1e9\u001b[0m\u001b[1;33m\u001b[0m\u001b[0m\n\u001b[1;32m      8\u001b[0m     \u001b[0msensor\u001b[0m\u001b[1;33m.\u001b[0m\u001b[0mmeasurement_rate\u001b[0m    \u001b[1;33m=\u001b[0m \u001b[1;34m'FAST'\u001b[0m\u001b[1;33m\u001b[0m\u001b[0m\n\u001b[0;32m----> 9\u001b[0;31m     \u001b[0msensor\u001b[0m\u001b[1;33m.\u001b[0m\u001b[0mtrigger_count\u001b[0m       \u001b[1;33m=\u001b[0m \u001b[1;36m500\u001b[0m\u001b[1;33m\u001b[0m\u001b[0m\n\u001b[0m\u001b[1;32m     10\u001b[0m     \u001b[0msensor\u001b[0m\u001b[1;33m.\u001b[0m\u001b[0msweep_aperture\u001b[0m      \u001b[1;33m=\u001b[0m \u001b[1;36m20e-6\u001b[0m\u001b[1;33m\u001b[0m\u001b[0m\n\u001b[1;32m     11\u001b[0m     \u001b[0msensor\u001b[0m\u001b[1;33m.\u001b[0m\u001b[0mtrigger_source\u001b[0m      \u001b[1;33m=\u001b[0m \u001b[1;34m'IMM'\u001b[0m\u001b[1;33m\u001b[0m\u001b[0m\n",
      "\u001b[0;32mC:\\Program Files\\Anaconda2\\lib\\site-packages\\traitlets\\traitlets.pyc\u001b[0m in \u001b[0;36m__set__\u001b[0;34m(self, obj, value)\u001b[0m\n\u001b[1;32m    581\u001b[0m             \u001b[1;32mraise\u001b[0m \u001b[0mTraitError\u001b[0m\u001b[1;33m(\u001b[0m\u001b[1;34m'The \"%s\" trait is read-only.'\u001b[0m \u001b[1;33m%\u001b[0m \u001b[0mself\u001b[0m\u001b[1;33m.\u001b[0m\u001b[0mname\u001b[0m\u001b[1;33m)\u001b[0m\u001b[1;33m\u001b[0m\u001b[0m\n\u001b[1;32m    582\u001b[0m         \u001b[1;32melse\u001b[0m\u001b[1;33m:\u001b[0m\u001b[1;33m\u001b[0m\u001b[0m\n\u001b[0;32m--> 583\u001b[0;31m             \u001b[0mself\u001b[0m\u001b[1;33m.\u001b[0m\u001b[0mset\u001b[0m\u001b[1;33m(\u001b[0m\u001b[0mobj\u001b[0m\u001b[1;33m,\u001b[0m \u001b[0mvalue\u001b[0m\u001b[1;33m)\u001b[0m\u001b[1;33m\u001b[0m\u001b[0m\n\u001b[0m\u001b[1;32m    584\u001b[0m \u001b[1;33m\u001b[0m\u001b[0m\n\u001b[1;32m    585\u001b[0m     \u001b[1;32mdef\u001b[0m \u001b[0m_validate\u001b[0m\u001b[1;33m(\u001b[0m\u001b[0mself\u001b[0m\u001b[1;33m,\u001b[0m \u001b[0mobj\u001b[0m\u001b[1;33m,\u001b[0m \u001b[0mvalue\u001b[0m\u001b[1;33m)\u001b[0m\u001b[1;33m:\u001b[0m\u001b[1;33m\u001b[0m\u001b[0m\n",
      "\u001b[0;32mC:\\Users\\dkuester\\Documents\\src\\remotelets\\remotelets\\core.pyc\u001b[0m in \u001b[0;36mset\u001b[0;34m(self, obj, value)\u001b[0m\n\u001b[1;32m     40\u001b[0m             \u001b[0mself\u001b[0m\u001b[1;33m.\u001b[0m\u001b[0mread_only\u001b[0m \u001b[1;33m=\u001b[0m \u001b[0mrd_only\u001b[0m\u001b[1;33m\u001b[0m\u001b[0m\n\u001b[1;32m     41\u001b[0m         \u001b[1;32mexcept\u001b[0m \u001b[0mtraitlets\u001b[0m\u001b[1;33m.\u001b[0m\u001b[0mTraitError\u001b[0m\u001b[1;33m,\u001b[0m\u001b[0me\u001b[0m\u001b[1;33m:\u001b[0m\u001b[1;33m\u001b[0m\u001b[0m\n\u001b[0;32m---> 42\u001b[0;31m             \u001b[1;32mraise\u001b[0m \u001b[0me\u001b[0m\u001b[1;33m\u001b[0m\u001b[0m\n\u001b[0m\u001b[1;32m     43\u001b[0m \u001b[1;33m\u001b[0m\u001b[0m\n\u001b[1;32m     44\u001b[0m     \u001b[1;32mdef\u001b[0m \u001b[0mdevalidate\u001b[0m \u001b[1;33m(\u001b[0m\u001b[0mself\u001b[0m\u001b[1;33m,\u001b[0m \u001b[0mobj\u001b[0m\u001b[1;33m,\u001b[0m \u001b[0mvalue\u001b[0m\u001b[1;33m)\u001b[0m\u001b[1;33m:\u001b[0m\u001b[1;33m\u001b[0m\u001b[0m\n",
      "\u001b[0;31mTraitError\u001b[0m: The value of the 'trigger_count' trait of a KeysightU2040XSeries instance should not be greater than 200, but a value of 500 was specified"
     ],
     "output_type": "error"
    }
   ],
   "source": [
    "sensor = KeysightU2040XSeries(visa_resource_string) # Instantiate the driver\n",
    "sensor.connected = True # Connect to the instrument\n",
    "\n",
    "try:\n",
    "    # Configure\n",
    "    sensor.preset()\n",
    "    sensor.frequency           = 1e9\n",
    "    sensor.measurement_rate    = 'FAST'\n",
    "    sensor.trigger_count       = 500\n",
    "    sensor.sweep_aperture      = 20e-6\n",
    "    sensor.trigger_source      = 'IMM'\n",
    "    sensor.initiate_continuous = True\n",
    "    \n",
    "    power = sensor.fetch()\n",
    "finally:\n",
    "    sensor.disconnect()\n",
    "    \n",
    "power.hist(figsize=(6,2)); xlabel('Power level'); ylabel('Count'); title('Histogram of power sensor readings')"
   ]
  },
  {
   "cell_type": "markdown",
   "metadata": {},
   "source": [
    "**this exception is a good thing: we got immediate feedback that we provided an invalid value, instead of silent failure.**\n",
    "\n",
    "All we did to make this happen was add the `min=1,max=200` parameters when we set up the `Int` data type for the KeysightU2040XSeries driver; these values are in the programming manual along in the same place we went to find out that the SCPI string is `'TRIG:COUN'`."
   ]
  },
  {
   "cell_type": "markdown",
   "metadata": {},
   "source": [
    "### Other perks of instrument control with remotelets\n",
    "* Real-time \"heads-up\" display (jupyter notebooks only)"
   ]
  },
  {
   "cell_type": "code",
   "execution_count": 9,
   "metadata": {
    "collapsed": false,
    "scrolled": true
   },
   "outputs": [
    {
     "data": {
      "image/png": "[encoded data removed]",
      "text/plain": [
       "<matplotlib.figure.Figure at 0xcc74550>"
      ]
     },
     "metadata": {},
     "output_type": "display_data"
    }
   ],
   "source": [
    "sensor = KeysightU2040XSeries(visa_resource_string)\n",
    "display(notebooks.watch(sensor))  # Show a real-time monitor of instrument state\n",
    "sensor.connected = True\n",
    "\n",
    "try:\n",
    "    sensor.measurement_rate    = 'FAST'\n",
    "    sensor.trigger_count       = 200\n",
    "    sensor.sweep_aperture      = 20e-6\n",
    "    sensor.trigger_source      = 'IMM'\n",
    "    sensor.initiate_continuous = True\n",
    "\n",
    "    # Let's do a loop\n",
    "    for freq in np.arange(1,15,.5)*1e9:\n",
    "        sensor.frequency = freq\n",
    "               \n",
    "        # fetch and plot\n",
    "        power = sensor.fetch()\n",
    "        power.hist();xlabel('Power level'); ylabel('Count'); title('Histogram of power sensor readings')\n",
    "        \n",
    "        # Update the plot display\n",
    "        display(gcf());clear_output(wait=True)        \n",
    "finally:\n",
    "     sensor.disconnect()"
   ]
  },
  {
   "cell_type": "markdown",
   "metadata": {},
   "source": [
    "* Autogenerated docstrings (for help)"
   ]
  },
  {
   "cell_type": "code",
   "execution_count": 10,
   "metadata": {
    "collapsed": false
   },
   "outputs": [
    {
     "name": "stdout",
     "output_type": "stream",
     "text": [
      "Help on class KeysightU2040XSeries in module __main__:\n",
      "\n",
      "class KeysightU2040XSeries(remotelets.core.VISAInstrument)\n",
      " |  This is my cool driver for Keysight U2040 X-Series power sensors\n",
      " |  \n",
      " |  Method resolution order:\n",
      " |      KeysightU2040XSeries\n",
      " |      remotelets.core.VISAInstrument\n",
      " |      remotelets.core.RemoteDevice\n",
      " |      traitlets.traitlets.HasTraits\n",
      " |      traitlets.traitlets.HasDescriptors\n",
      " |      __builtin__.object\n",
      " |  \n",
      " |  Methods defined here:\n",
      " |  \n",
      " |  fetch(self)\n",
      " |      Return a single number or pandas Series containing the power readings\n",
      " |  \n",
      " |  preset(self, block=True)\n",
      " |  \n",
      " |  ----------------------------------------------------------------------\n",
      " |  Data descriptors defined here:\n",
      " |  \n",
      " |  frequency\n",
      " |      remote trait Float(min=10000000.0,max=18000000000.0,step=0.001)\n",
      " |  \n",
      " |  initiate_continuous\n",
      " |  \n",
      " |  measurement_rate\n",
      " |      remote trait Enum(['NORM', 'DOUB', 'FAST'])\n",
      " |  \n",
      " |  output_trigger\n",
      " |  \n",
      " |  sweep_aperture\n",
      " |      remote trait Float(min=2e-05,max=0.2,step=None)\n",
      " |  \n",
      " |  trigger_count\n",
      " |      remote trait Int(min=1,max=200,step=1)\n",
      " |      help me\n",
      " |  \n",
      " |  trigger_source\n",
      " |      remote trait Enum(['IMM', 'INT', 'EXT', 'BUS', 'INT1'])\n",
      " |  \n",
      " |  ----------------------------------------------------------------------\n",
      " |  Data and other attributes defined here:\n",
      " |  \n",
      " |  connection_settings = {'read_termination': '\\n', 'write_termination': ...\n",
      " |  \n",
      " |  ----------------------------------------------------------------------\n",
      " |  Methods inherited from remotelets.core.VISAInstrument:\n",
      " |  \n",
      " |  __init__(self, resource=None)\n",
      " |  \n",
      " |  connect(self)\n",
      " |  \n",
      " |  disconnect(self)\n",
      " |  \n",
      " |  remote_get(self, attr)\n",
      " |  \n",
      " |  remote_set(self, attr, value)\n",
      " |  \n",
      " |  ----------------------------------------------------------------------\n",
      " |  Class methods inherited from remotelets.core.VISAInstrument:\n",
      " |  \n",
      " |  set_backend(cls, backend_name) from traitlets.traitlets.MetaHasTraits\n",
      " |      backend_name can be 'py' or 'ni'\n",
      " |  \n",
      " |  ----------------------------------------------------------------------\n",
      " |  Data descriptors inherited from remotelets.core.VISAInstrument:\n",
      " |  \n",
      " |  identity\n",
      " |  \n",
      " |  ----------------------------------------------------------------------\n",
      " |  Data and other attributes inherited from remotelets.core.VISAInstrument:\n",
      " |  \n",
      " |  verbose = False\n",
      " |  \n",
      " |  ----------------------------------------------------------------------\n",
      " |  Methods inherited from remotelets.core.RemoteDevice:\n",
      " |  \n",
      " |  __del__(self)\n",
      " |  \n",
      " |  is_connected(self)\n",
      " |  \n",
      " |  ----------------------------------------------------------------------\n",
      " |  Data descriptors inherited from remotelets.core.RemoteDevice:\n",
      " |  \n",
      " |  connected\n",
      " |      A boolean (True, False) trait.\n",
      " |  \n",
      " |  ----------------------------------------------------------------------\n",
      " |  Data and other attributes inherited from remotelets.core.RemoteDevice:\n",
      " |  \n",
      " |  resource = None\n",
      " |  \n",
      " |  ----------------------------------------------------------------------\n",
      " |  Methods inherited from traitlets.traitlets.HasTraits:\n",
      " |  \n",
      " |  __getstate__(self)\n",
      " |  \n",
      " |  __setstate__(self, state)\n",
      " |  \n",
      " |  add_traits(self, **traits)\n",
      " |      Dynamically add trait attributes to the HasTraits instance.\n",
      " |  \n",
      " |  has_trait(self, name)\n",
      " |      Returns True if the object has a trait with the specified name.\n",
      " |  \n",
      " |  hold_trait_notifications(*args, **kwds)\n",
      " |      Context manager for bundling trait change notifications and cross\n",
      " |      validation.\n",
      " |      \n",
      " |      Use this when doing multiple trait assignments (init, config), to avoid\n",
      " |      race conditions in trait notifiers requesting other trait values.\n",
      " |      All trait notifications will fire after all values have been assigned.\n",
      " |  \n",
      " |  notify_change(self, change)\n",
      " |  \n",
      " |  observe(self, handler, names=traitlets.All, type='change')\n",
      " |      Setup a handler to be called when a trait changes.\n",
      " |      \n",
      " |      This is used to setup dynamic notifications of trait changes.\n",
      " |      \n",
      " |      Parameters\n",
      " |      ----------\n",
      " |      handler : callable\n",
      " |          A callable that is called when a trait changes. Its\n",
      " |          signature should be ``handler(change)``, where ``change`` is a\n",
      " |          dictionary. The change dictionary at least holds a 'type' key.\n",
      " |          * ``type``: the type of notification.\n",
      " |          Other keys may be passed depending on the value of 'type'. In the\n",
      " |          case where type is 'change', we also have the following keys:\n",
      " |          * ``owner`` : the HasTraits instance\n",
      " |          * ``old`` : the old value of the modified trait attribute\n",
      " |          * ``new`` : the new value of the modified trait attribute\n",
      " |          * ``name`` : the name of the modified trait attribute.\n",
      " |      names : list, str, All\n",
      " |          If names is All, the handler will apply to all traits.  If a list\n",
      " |          of str, handler will apply to all names in the list.  If a\n",
      " |          str, the handler will apply just to that name.\n",
      " |      type : str, All (default: 'change')\n",
      " |          The type of notification to filter by. If equal to All, then all\n",
      " |          notifications are passed to the observe handler.\n",
      " |  \n",
      " |  on_trait_change(self, handler=None, name=None, remove=False)\n",
      " |      DEPRECATED: Setup a handler to be called when a trait changes.\n",
      " |      \n",
      " |      This is used to setup dynamic notifications of trait changes.\n",
      " |      \n",
      " |      Static handlers can be created by creating methods on a HasTraits\n",
      " |      subclass with the naming convention '_[traitname]_changed'.  Thus,\n",
      " |      to create static handler for the trait 'a', create the method\n",
      " |      _a_changed(self, name, old, new) (fewer arguments can be used, see\n",
      " |      below).\n",
      " |      \n",
      " |      If `remove` is True and `handler` is not specified, all change\n",
      " |      handlers for the specified name are uninstalled.\n",
      " |      \n",
      " |      Parameters\n",
      " |      ----------\n",
      " |      handler : callable, None\n",
      " |          A callable that is called when a trait changes.  Its\n",
      " |          signature can be handler(), handler(name), handler(name, new),\n",
      " |          handler(name, old, new), or handler(name, old, new, self).\n",
      " |      name : list, str, None\n",
      " |          If None, the handler will apply to all traits.  If a list\n",
      " |          of str, handler will apply to all names in the list.  If a\n",
      " |          str, the handler will apply just to that name.\n",
      " |      remove : bool\n",
      " |          If False (the default), then install the handler.  If True\n",
      " |          then unintall it.\n",
      " |  \n",
      " |  set_trait(self, name, value)\n",
      " |      Forcibly sets trait attribute, including read-only attributes.\n",
      " |  \n",
      " |  setup_instance(self, *args, **kwargs)\n",
      " |  \n",
      " |  trait_metadata(self, traitname, key, default=None)\n",
      " |      Get metadata values for trait by key.\n",
      " |  \n",
      " |  trait_names(self, **metadata)\n",
      " |      Get a list of all the names of this class' traits.\n",
      " |  \n",
      " |  traits(self, **metadata)\n",
      " |      Get a ``dict`` of all the traits of this class.  The dictionary\n",
      " |      is keyed on the name and the values are the TraitType objects.\n",
      " |      \n",
      " |      The TraitTypes returned don't know anything about the values\n",
      " |      that the various HasTrait's instances are holding.\n",
      " |      \n",
      " |      The metadata kwargs allow functions to be passed in which\n",
      " |      filter traits based on metadata values.  The functions should\n",
      " |      take a single value as an argument and return a boolean.  If\n",
      " |      any function returns False, then the trait is not included in\n",
      " |      the output.  If a metadata key doesn't exist, None will be passed\n",
      " |      to the function.\n",
      " |  \n",
      " |  unobserve(self, handler, names=traitlets.All, type='change')\n",
      " |      Remove a trait change handler.\n",
      " |      \n",
      " |      This is used to unregister handlers to trait change notifications.\n",
      " |      \n",
      " |      Parameters\n",
      " |      ----------\n",
      " |      handler : callable\n",
      " |          The callable called when a trait attribute changes.\n",
      " |      names : list, str, All (default: All)\n",
      " |          The names of the traits for which the specified handler should be\n",
      " |          uninstalled. If names is All, the specified handler is uninstalled\n",
      " |          from the list of notifiers corresponding to all changes.\n",
      " |      type : str or All (default: 'change')\n",
      " |          The type of notification to filter by. If All, the specified handler\n",
      " |          is uninstalled from the list of notifiers corresponding to all types.\n",
      " |  \n",
      " |  unobserve_all(self, name=traitlets.All)\n",
      " |      Remove trait change handlers of any type for the specified name.\n",
      " |      If name is not specified, removes all trait notifiers.\n",
      " |  \n",
      " |  ----------------------------------------------------------------------\n",
      " |  Class methods inherited from traitlets.traitlets.HasTraits:\n",
      " |  \n",
      " |  class_own_trait_events(cls, name) from traitlets.traitlets.MetaHasTraits\n",
      " |      Get a dict of all event handlers defined on this class, not a parent.\n",
      " |      \n",
      " |      Works like ``event_handlers``, except for excluding traits from parents.\n",
      " |  \n",
      " |  class_own_traits(cls, **metadata) from traitlets.traitlets.MetaHasTraits\n",
      " |      Get a dict of all the traitlets defined on this class, not a parent.\n",
      " |      \n",
      " |      Works like `class_traits`, except for excluding traits from parents.\n",
      " |  \n",
      " |  class_trait_names(cls, **metadata) from traitlets.traitlets.MetaHasTraits\n",
      " |      Get a list of all the names of this class' traits.\n",
      " |      \n",
      " |      This method is just like the :meth:`trait_names` method,\n",
      " |      but is unbound.\n",
      " |  \n",
      " |  class_traits(cls, **metadata) from traitlets.traitlets.MetaHasTraits\n",
      " |      Get a ``dict`` of all the traits of this class.  The dictionary\n",
      " |      is keyed on the name and the values are the TraitType objects.\n",
      " |      \n",
      " |      This method is just like the :meth:`traits` method, but is unbound.\n",
      " |      \n",
      " |      The TraitTypes returned don't know anything about the values\n",
      " |      that the various HasTrait's instances are holding.\n",
      " |      \n",
      " |      The metadata kwargs allow functions to be passed in which\n",
      " |      filter traits based on metadata values.  The functions should\n",
      " |      take a single value as an argument and return a boolean.  If\n",
      " |      any function returns False, then the trait is not included in\n",
      " |      the output.  If a metadata key doesn't exist, None will be passed\n",
      " |      to the function.\n",
      " |  \n",
      " |  trait_events(cls, name=None) from traitlets.traitlets.MetaHasTraits\n",
      " |      Get a ``dict`` of all the event handlers of this class.\n",
      " |      \n",
      " |      Parameters\n",
      " |      ----------\n",
      " |      name: str (default: None)\n",
      " |          The name of a trait of this class. If name is ``None`` then all\n",
      " |          the event handlers of this class will be returned instead.\n",
      " |      \n",
      " |      Returns\n",
      " |      -------\n",
      " |      The event handlers associated with a trait name, or all event handlers.\n",
      " |  \n",
      " |  ----------------------------------------------------------------------\n",
      " |  Data descriptors inherited from traitlets.traitlets.HasTraits:\n",
      " |  \n",
      " |  cross_validation_lock\n",
      " |      A contextmanager for running a block with our cross validation lock set\n",
      " |      to True.\n",
      " |      \n",
      " |      At the end of the block, the lock's value is restored to its value\n",
      " |      prior to entering the block.\n",
      " |  \n",
      " |  ----------------------------------------------------------------------\n",
      " |  Static methods inherited from traitlets.traitlets.HasDescriptors:\n",
      " |  \n",
      " |  __new__(cls, *args, **kwargs)\n",
      " |  \n",
      " |  ----------------------------------------------------------------------\n",
      " |  Data descriptors inherited from traitlets.traitlets.HasDescriptors:\n",
      " |  \n",
      " |  __dict__\n",
      " |      dictionary for instance variables (if defined)\n",
      " |  \n",
      " |  __weakref__\n",
      " |      list of weak references to the object (if defined)\n",
      "\n"
     ]
    }
   ],
   "source": [
    "# pop up the jupyter notebook help pane\n",
    "trait=sensor.traits()['frequency']\n",
    "trait?\n",
    "help(KeysightU2040XSeries)"
   ]
  },
  {
   "cell_type": "markdown",
   "metadata": {},
   "source": [
    "* Automated logging"
   ]
  }
 ],
 "metadata": {
  "anaconda-cloud": {},
  "kernelspec": {
   "display_name": "Python [default]",
   "language": "python",
   "name": "python2"
  },
  "language_info": {
   "codemirror_mode": {
    "name": "ipython",
    "version": 2.0
   },
   "file_extension": ".py",
   "mimetype": "text/x-python",
   "name": "python",
   "nbconvert_exporter": "python",
   "pygments_lexer": "ipython2",
   "version": "2.7.13"
  },
  "widgets": {
   "state": {
    "c73232bd1a0945d8920ed398351c9938": {
     "views": [
      {
       "cell_index": 14.0
      }
     ]
    }
   },
   "version": "1.2.0"
  }
 },
 "nbformat": 4,
 "nbformat_minor": 0
}